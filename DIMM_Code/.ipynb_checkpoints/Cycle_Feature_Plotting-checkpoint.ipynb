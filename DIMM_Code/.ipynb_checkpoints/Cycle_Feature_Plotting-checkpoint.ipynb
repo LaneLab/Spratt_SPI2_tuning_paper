{
 "cells": [
  {
   "cell_type": "markdown",
   "id": "11e406e7-bd1d-4766-a116-3224b74b82aa",
   "metadata": {},
   "source": [
    "# Plotting Cycle Based Features\n",
    "-This notebook is for plotting cycle based features that were extracted in Processing notebook and stored as df_gen\n",
    "\n",
    "-Note that df_gen as saved has not been filtered at all, all incomplete cycles are filtered explicitly here to keep track, and will be filtered in other notebooks when combining with other dataframes so that it's easy to track what's been removed\n",
    "\n",
    "-Lengths here are in um (though always check what you're pulling from processing), times are in minutes, and rate is um/min (but will be plotted as um/hr most likely)"
   ]
  },
  {
   "cell_type": "code",
   "execution_count": null,
   "id": "05f1393c-8d65-4a06-86bb-8f7de6c039f9",
   "metadata": {},
   "outputs": [],
   "source": [
    "from pathlib import Path\n",
    "import seaborn as sns\n",
    "from matplotlib import pyplot as plt\n",
    "import xarray as xr\n",
    "import numpy as np\n",
    "import pandas as pd\n",
    "import os\n",
    "import re\n",
    "from collections import defaultdict\n",
    "from matplotlib.backends.backend_pdf import PdfPages\n",
    "import matplotlib.pyplot as plt\n",
    "\n",
    "# makes figures look better in Jupyter\n",
    "sns.set_context('talk')\n",
    "sns.set_style(\"ticks\")\n",
    "import matplotlib as mpl\n",
    "mpl.rcParams['pdf.fonttype'] = 42\n",
    "mpl.rcParams['ps.fonttype'] = 42"
   ]
  },
  {
   "cell_type": "code",
   "execution_count": null,
   "id": "6c9d9f35-88fe-4c7c-9ed1-0af6fbb567eb",
   "metadata": {},
   "outputs": [],
   "source": [
    "plot_output = ''\n",
    "df_gen = pd.read_csv(os.path.join(plot_output, 'CellCycle_Stats.csv'))\n",
    "df_gen"
   ]
  },
  {
   "cell_type": "code",
   "execution_count": null,
   "id": "c290bff2-9bd4-4910-88ce-3c109ab719f9",
   "metadata": {},
   "outputs": [],
   "source": [
    "#Filtering incomplete cycles\n",
    "df_gen_no_end_cycle = df_gen[df_gen['end_time']!=1080] #removes incomplete cycles at the end of the expt\n",
    "\n",
    "#Now remove cycles where cells fall out end of channel - defined as cycles that both don't have a following cycle and don't have valid cell IDs through the last time point\n",
    "df_gen_no_end_cycle = df_gen_no_end_cycle.sort_values(by=['unique_ID', 'cell_id', 'cycle']) #sort\n",
    "df_gen_no_end_cycle['next_cycle'] = df_gen_no_end_cycle.groupby(['unique_ID','cell_id'])['cycle'].shift(-1) #find following cycle\n",
    "df_gen_no_lost_cells = df_gen_no_end_cycle[(df_gen_no_end_cycle['next_cycle'] == df_gen_no_end_cycle['cycle'] + 1) | (df_gen_no_end_cycle['last_valid_cell_time'] == 1080)].copy() #filter\n",
    "\n",
    "#Remove first cycle as that's also incomplete\n",
    "df_filtered = df_gen_no_lost_cells[df_gen_no_lost_cells['start_time']!=0]\n",
    "df_filtered = df_filtered[df_filtered['cycle_duration']>=10]\n",
    "\n",
    "\n",
    "print(len(df_gen))\n",
    "print(len(df_gen_no_end_cycle))\n",
    "print(len(df_gen_no_lost_cells))\n",
    "print(len(df_filtered))"
   ]
  },
  {
   "cell_type": "code",
   "execution_count": null,
   "id": "1905b6c9-548d-47f3-8930-68bcbc7cd6e4",
   "metadata": {},
   "outputs": [],
   "source": [
    "fig, ax = plt.subplots()\n",
    "sns.histplot(data=df_filtered['start_length'], kde=True, bins = 40, ax=ax, color = 'gray', stat = 'percent')\n",
    "start_length_skew = df_filtered['start_length'].skew()\n",
    "sns.histplot(data=df_filtered['end_length'], kde=True, bins = 40, ax=ax, color = 'steelblue', stat = 'percent')\n",
    "end_length_skew = df_filtered['end_length'].skew()\n",
    "ax.annotate(f\"Skewness = {start_length_skew:.2f}\", xy=(0.5, 0.9), xycoords=\"axes fraction\", color = 'grey')\n",
    "ax.annotate(f\"Skewness = {end_length_skew:.2f}\", xy=(0.5, 0.8), xycoords=\"axes fraction\", color = 'steelblue')\n",
    "ax.axvline(x=df_filtered['end_length'].mean(), ls ='-', color='darkblue')\n",
    "ax.axvline(x=df_filtered['start_length'].mean(), color = 'black', ls='-')\n",
    "#ax.axvline(x=df_filtered['end_length'].std()+df_filtered['end_length'].mean(), color = 'steelblue', ls='--')\n",
    "#ax.axvline(x=df_filtered['end_length'].mean()- df_filtered['end_length'].std(), color = 'steelblue', ls='--')\n",
    "#ax.axvline(x=df_filtered['start_length'].std()+df_filtered['start_length'].mean(), color = 'grey', ls='--')\n",
    "#ax.axvline(x=df_filtered['start_length'].mean()- df_filtered['start_length'].std(), color = 'grey', ls='--')\n",
    "plt.savefig(plot_output+'/start_end_length_distribution.pdf')"
   ]
  },
  {
   "cell_type": "code",
   "execution_count": null,
   "id": "7bd05085-469b-4b66-a63f-0ad22a9cd84a",
   "metadata": {},
   "outputs": [],
   "source": [
    "fig, ax = plt.subplots()\n",
    "sns.histplot(data=df_filtered['cycle_duration'], kde=True, bins = 40, ax=ax, color = 'gray', stat = 'percent')\n",
    "dur_skew = df_filtered['cycle_duration'].skew()\n",
    "ax.annotate(f\"Skewness = {dur_skew:.2f}\", xy=(0.5, 0.9), xycoords=\"axes fraction\", color = 'grey')\n",
    "ax.axvline(x=df_filtered['cycle_duration'].mean(), color = 'black', ls='-')\n",
    "ax.axvline(x=df_filtered['cycle_duration'].std()+df_filtered['cycle_duration'].mean(), color = 'grey', ls='--')\n",
    "ax.axvline(x=df_filtered['cycle_duration'].mean()- df_filtered['cycle_duration'].std(), color = 'grey', ls='--')\n",
    "ax.set_xticks([0, 120, 240, 360, 480, 600, 720, 840])\n",
    "plt.savefig(plot_output+'/cycle_duration.pdf')"
   ]
  },
  {
   "cell_type": "code",
   "execution_count": null,
   "id": "80490adc-6845-4365-98ea-12505f49acff",
   "metadata": {},
   "outputs": [],
   "source": [
    "fig, ax = plt.subplots()\n",
    "sns.histplot(data=df_filtered['total_growth'], kde=True, bins = 40, ax=ax, color = 'gray', stat = 'percent')\n",
    "dur_skew = df_filtered['total_growth'].skew()\n",
    "ax.annotate(f\"Skewness = {dur_skew:.2f}\", xy=(0.5, 0.9), xycoords=\"axes fraction\", color = 'grey')\n",
    "ax.axvline(x=df_filtered['total_growth'].mean(), color = 'black', ls='-')\n",
    "ax.axvline(x=df_filtered['total_growth'].std()+df_filtered['total_growth'].mean(), color = 'grey', ls='--')\n",
    "ax.axvline(x=df_filtered['total_growth'].mean()- df_filtered['total_growth'].std(), color = 'grey', ls='--')\n",
    "plt.savefig(plot_output+'/total_growth.pdf')"
   ]
  },
  {
   "cell_type": "code",
   "execution_count": null,
   "id": "14156218-1a66-4a58-b805-9f181c0bc96d",
   "metadata": {},
   "outputs": [],
   "source": [
    "fig, ax = plt.subplots()\n",
    "df_filtered['elong_hours']=df_filtered['avg_elong_rate']*60\n",
    "sns.histplot(data=df_filtered['elong_hours'], kde=True, bins = 40, ax=ax, color = 'gray', stat = 'percent')\n",
    "dur_skew = df_filtered['elong_hours'].skew()\n",
    "ax.annotate(f\"Skewness = {dur_skew:.2f}\", xy=(0.5, 0.9), xycoords=\"axes fraction\", color = 'grey')\n",
    "ax.axvline(x=df_filtered['elong_hours'].mean(), color = 'black', ls='-')\n",
    "ax.axvline(x=df_filtered['elong_hours'].std()+df_filtered['elong_hours'].mean(), color = 'grey', ls='--')\n",
    "ax.axvline(x=df_filtered['elong_hours'].mean()- df_filtered['elong_hours'].std(), color = 'grey', ls='--')\n",
    "plt.savefig(plot_output+'/elong_rate.pdf')"
   ]
  },
  {
   "cell_type": "code",
   "execution_count": null,
   "id": "d364eec0-5a5c-4ca1-a7d7-9cf93646032e",
   "metadata": {},
   "outputs": [],
   "source": [
    "df_gen_mothers = df_gen[df_gen['parent']==0]\n",
    "df_gen_mothers"
   ]
  },
  {
   "cell_type": "code",
   "execution_count": null,
   "id": "adf78125-c5b5-4b81-987b-7b2e80a47200",
   "metadata": {},
   "outputs": [],
   "source": [
    "df_count = df_gen_mothers.groupby('unique_ID').size().reset_index(name='div_count')\n",
    "df_count"
   ]
  },
  {
   "cell_type": "code",
   "execution_count": null,
   "id": "340d9a39-b1cf-4816-81a8-276b1c3e47b4",
   "metadata": {},
   "outputs": [],
   "source": [
    "sns.histplot(data = df_count, x='div_count', color = 'gray', binwidth=1, stat = 'percent')\n",
    "plt.savefig(plot_output+'/mother_divisions.pdf')"
   ]
  },
  {
   "cell_type": "code",
   "execution_count": null,
   "id": "cd0f9126-f2a4-4cb9-9d70-a4ae4029d8cd",
   "metadata": {},
   "outputs": [],
   "source": [
    "cell_count_df = (df_gen.groupby('unique_ID')['cell_id'].nunique()\n",
    "    .reset_index()\n",
    "    .rename(columns={'cell_id': 'cell_count'}))\n",
    "cell_count_df_sorted = cell_count_df.sort_values(by='cell_count')\n",
    "cell_count_df_sorted['fraction_total'] = cell_count_df_sorted['cell_count']/cell_count_df_sorted['cell_count'].sum()"
   ]
  },
  {
   "cell_type": "code",
   "execution_count": null,
   "id": "aa79dbe7-5984-4e4e-b156-77fdf6022580",
   "metadata": {},
   "outputs": [],
   "source": [
    "fig, ax = plt.subplots()\n",
    "sns.histplot(data=cell_count_df_sorted, x='cell_count', color='gray', stat = 'percent', ax=ax)\n",
    "ax.set_xticks([0, 10, 20, 30, 40, 50, 60])\n",
    "#ax.axvline(x=cell_count_df_sorted['cell_count'].mean(), color = 'black', ls='-')\n",
    "plt.savefig(plot_output+'/total_cell_count.pdf')"
   ]
  },
  {
   "cell_type": "code",
   "execution_count": null,
   "id": "b915fb0a-9ee7-4784-b622-e7771c5bed14",
   "metadata": {},
   "outputs": [],
   "source": []
  }
 ],
 "metadata": {
  "kernelspec": {
   "display_name": "gmm",
   "language": "python",
   "name": "delta_env"
  },
  "language_info": {
   "codemirror_mode": {
    "name": "ipython",
    "version": 3
   },
   "file_extension": ".py",
   "mimetype": "text/x-python",
   "name": "python",
   "nbconvert_exporter": "python",
   "pygments_lexer": "ipython3",
   "version": "3.12.0"
  }
 },
 "nbformat": 4,
 "nbformat_minor": 5
}
