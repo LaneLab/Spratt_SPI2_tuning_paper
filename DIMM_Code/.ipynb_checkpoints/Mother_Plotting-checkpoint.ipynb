{
 "cells": [
  {
   "cell_type": "markdown",
   "id": "dc3ef187-d135-42bc-88e0-43166d238d1b",
   "metadata": {},
   "source": [
    "# Plotting From Mother Cell Dataframe\n",
    "-Data is extracted from all mothers in Processing notebook and stored as CSV, all plotting and mother only analysis is located here\n",
    "\n",
    "\n",
    "-slope_df is also imported here to get the shift figure and switch characteristics figure, was also extracted in the Processing notebook"
   ]
  },
  {
   "cell_type": "code",
   "execution_count": null,
   "id": "5d4412ee-cc9d-44d3-a266-18876f5366a8",
   "metadata": {},
   "outputs": [],
   "source": [
    "from pathlib import Path\n",
    "from trackmatexml import TrackmateXML\n",
    "import seaborn as sns\n",
    "from matplotlib import pyplot as plt\n",
    "import numpy as np\n",
    "import pandas as pd\n",
    "import os\n",
    "import re\n",
    "from collections import defaultdict\n",
    "from matplotlib.backends.backend_pdf import PdfPages\n",
    "import matplotlib.pyplot as plt\n",
    "\n",
    "# makes figures look better in Jupyter\n",
    "sns.set_context('talk')\n",
    "sns.set_style(\"ticks\")\n",
    "import matplotlib as mpl\n",
    "mpl.rcParams['pdf.fonttype'] = 42\n",
    "mpl.rcParams['ps.fonttype'] = 42"
   ]
  },
  {
   "cell_type": "code",
   "execution_count": null,
   "id": "00976628-2e50-4454-9d26-1e6acb79686b",
   "metadata": {},
   "outputs": [],
   "source": [
    "plot_output = ''\n",
    "mothers_df = pd.read_csv(os.path.join(plot_output, 'Full_MotherCell_Data.csv'))\n",
    "slope_df = pd.read_csv(os.path.join(plot_output, 'Switch_Stats.csv'))\n",
    "gfp_threshold = 1515.608\n",
    "log_gfp_th = np.log(gfp_threshold)"
   ]
  },
  {
   "cell_type": "code",
   "execution_count": null,
   "id": "5064e7c3-5ea6-4e45-991d-4315c5e308fe",
   "metadata": {},
   "outputs": [],
   "source": [
    "mothers_df['GFP_Pos_Bool'] = mothers_df['GFP_median_intensity_processed_transformed']>log_gfp_th\n",
    "mothers_df['GFP_Pos_Bool'] = mothers_df['GFP_Pos_Bool'].astype(int)\n",
    "mothers_df"
   ]
  },
  {
   "cell_type": "code",
   "execution_count": null,
   "id": "232bf4be-13a8-4f34-bc7b-c3ff1cfd26bf",
   "metadata": {},
   "outputs": [],
   "source": [
    "mothers_df['expt_pos']=mothers_df['experiment'].astype(str)+'_'+mothers_df['position']\n",
    "pivot = mothers_df.pivot(index=\"expt_pos\", columns=\"time\", values=\"GFP_median_intensity_processed_transformed\")\n",
    "first_th_cross = pivot.apply(lambda row: row[row > log_gfp_th].index[0] if any(row > log_gfp_th) else float('inf'), axis=1)\n",
    "# Sort the pivot table by the calculated values\n",
    "GFP_TH_sorted_pivot = pivot.loc[first_th_cross.sort_values().index]\n",
    "fig, ax = plt.subplots()\n",
    "sns.heatmap(GFP_TH_sorted_pivot, cmap='viridis', ax=ax, square = True)\n",
    "\n",
    "ax.tick_params(axis='y', which='both', length=0)\n",
    "\n",
    "hour_ticks = [tick for tick in GFP_TH_sorted_pivot.columns if tick % 120 == 0]\n",
    "hour_tick_indices = [GFP_TH_sorted_pivot.columns.get_loc(tick) for tick in hour_ticks]\n",
    "ax.set_xticks(hour_tick_indices)\n",
    "ax.set_yticks([])\n",
    "ax.set_xticklabels(hour_ticks)\n",
    "plt.savefig(plot_output +'/GFP_heatmap_THsorted.pdf',bbox_inches='tight', transparent=True)"
   ]
  },
  {
   "cell_type": "code",
   "execution_count": null,
   "id": "83d46137-3b23-4c6d-9990-6b30b7b8e938",
   "metadata": {},
   "outputs": [],
   "source": [
    "TRITC_pivot = mothers_df.pivot(index=\"expt_pos\", columns=\"time\", values=\"TRITC_median_intensity_processed_transformed\")\n",
    "TRITC_sorted_pivot = TRITC_pivot.reindex(GFP_TH_sorted_pivot.index)\n",
    "fig, ax = plt.subplots()\n",
    "sns.heatmap(TRITC_sorted_pivot, cmap='viridis', ax=ax, square = True)\n",
    "\n",
    "ax.tick_params(axis='y', which='both', length=0)\n",
    "\n",
    "hour_ticks = [tick for tick in TRITC_sorted_pivot.columns if tick % 120 == 0]\n",
    "hour_tick_indices = [TRITC_sorted_pivot.columns.get_loc(tick) for tick in hour_ticks]\n",
    "ax.set_xticks(hour_tick_indices)\n",
    "ax.set_yticks([])\n",
    "ax.set_xticklabels(hour_ticks)\n",
    "plt.savefig(plot_output +'/Ruby_heatmap_GFPTHsorted.pdf',bbox_inches='tight', transparent=True)"
   ]
  },
  {
   "cell_type": "code",
   "execution_count": null,
   "id": "855b8853-2037-465f-87d8-49aee0ce0567",
   "metadata": {},
   "outputs": [],
   "source": [
    "mothers_df['expt_pos']=mothers_df['experiment'].astype(str)+'_'+mothers_df['position']\n",
    "binary_pivot = mothers_df.pivot(index=\"expt_pos\", columns=\"time\", values=\"GFP_Pos_Bool\")\n",
    "binary_sorted_pivot = binary_pivot.reindex(GFP_TH_sorted_pivot.index)\n",
    "fig, ax = plt.subplots()\n",
    "sns.heatmap(binary_sorted_pivot, cmap='PiYG', ax=ax, square = True)\n",
    "\n",
    "ax.tick_params(axis='y', which='both', length=0)\n",
    "\n",
    "hour_ticks = [tick for tick in GFP_TH_sorted_pivot.columns if tick % 120 == 0]\n",
    "hour_tick_indices = [GFP_TH_sorted_pivot.columns.get_loc(tick) for tick in hour_ticks]\n",
    "ax.set_xticks(hour_tick_indices)\n",
    "ax.set_yticks([])\n",
    "ax.set_xticklabels(hour_ticks)\n",
    "plt.savefig(plot_output +'/GFPBinary_heatmap_THsorted.pdf',bbox_inches='tight', transparent=True)"
   ]
  },
  {
   "cell_type": "code",
   "execution_count": null,
   "id": "bea82806-c145-4834-a6a7-8fd5e44fda22",
   "metadata": {},
   "outputs": [],
   "source": [
    "all_switches_on = []\n",
    "all_switches_off = []\n",
    "mothers_grouped = mothers_df.groupby('unique_ID')\n",
    "switch_on_times = []\n",
    "switch_off_times = []\n",
    "for unique_id, group in mothers_grouped:\n",
    "    group = group.sort_values('time')  # Ensure time order\n",
    "\n",
    "    shifted = group['GFP_Pos_Bool'].shift(1)\n",
    "    switches_on = (shifted == False) & (group['GFP_Pos_Bool'] == True)\n",
    "    times_on = group['time'][switches_on]\n",
    "    switch_on_times.extend(times_on.tolist())\n",
    "    switches_off = (shifted == True) & (group['GFP_Pos_Bool'] == False)\n",
    "    times_off = group['time'][switches_on]\n",
    "    switch_off_times.extend(times_off.tolist())\n",
    "\n",
    "    sum_switches_on = switches_on.sum()\n",
    "    sum_switches_off = switches_off.sum()\n",
    "\n",
    "    print(f'unique ID: {unique_id}, switches_on: {sum_switches_on}, switches_off: {sum_switches_off}')\n",
    "\n",
    "    all_switches_on.append(sum_switches_on)\n",
    "    all_switches_off.append(sum_switches_off)"
   ]
  },
  {
   "cell_type": "code",
   "execution_count": null,
   "id": "b257c898-ad5c-490f-8dbf-a6da9db337d6",
   "metadata": {},
   "outputs": [],
   "source": [
    "sns.histplot(x=switch_on_times, bins=20,\n",
    "             kde=True) \n",
    "plt.xlim(0,1080)\n",
    "print(len(switch_on_times))\n",
    "print(sum(all_switches_on))"
   ]
  },
  {
   "cell_type": "code",
   "execution_count": null,
   "id": "7eb63690-a3a3-400b-9a6f-679416997f50",
   "metadata": {},
   "outputs": [],
   "source": [
    "time_counts = mothers_df['GFP_Pos_Bool'].value_counts()\n",
    "counts = time_counts.values\n",
    "time_positive = counts[0]*5/60 #total time of all cells being positive in hours\n",
    "time_negative = counts[1]*5/60 #total time of all cells being negative in hours\n",
    "\n",
    "total_on_rate = sum(all_switches_on)/time_negative\n",
    "total_off_rate = sum(all_switches_off)/time_positive\n",
    "\n",
    "print(total_on_rate)\n",
    "print(total_off_rate)"
   ]
  },
  {
   "cell_type": "code",
   "execution_count": null,
   "id": "e2c00ea0-2864-4a1e-a5f1-057bfdba8329",
   "metadata": {},
   "outputs": [],
   "source": [
    "df_for_prob = mothers_df[mothers_df['time'] < 1080]\n",
    "df_for_prob['Time_Bin'] = (df_for_prob['time'] // 60) * 60\n",
    "\n",
    "# Sort for consistent group ordering\n",
    "df_for_prob = df_for_prob.sort_values(by=['unique_ID', 'time'])\n",
    "\n",
    "# For each unique_ID and each bin, get the first and last 'Bool' in that bin\n",
    "first_in_bin = df_for_prob.groupby(['Time_Bin', 'unique_ID']).first().reset_index()\n",
    "last_in_bin = df_for_prob.groupby(['Time_Bin', 'unique_ID']).last().reset_index()\n",
    "\n",
    "start_off = first_in_bin[first_in_bin['GFP_Pos_Bool'] == False].groupby('Time_Bin')['unique_ID'].nunique().reset_index(name='Start_OFF')\n",
    "start_on = first_in_bin[first_in_bin['GFP_Pos_Bool'] == True].groupby('Time_Bin')['unique_ID'].nunique().reset_index(name='Start_ON')\n",
    "end_on = last_in_bin[last_in_bin['GFP_Pos_Bool'] == True].groupby('Time_Bin')['unique_ID'].nunique().reset_index(name='End_ON')\n",
    "\n",
    "result = pd.merge(start_off, start_on, on='Time_Bin', how='outer')\n",
    "result = pd.merge(result, end_on, on='Time_Bin', how='outer').fillna(0)\n",
    "result['Start_OFF'] = result['Start_OFF'].astype(int)\n",
    "result['End_ON'] = result['End_ON'].astype(int)\n",
    "result['Start_ON'] = result['Start_ON'].astype(int)\n",
    "\n",
    "result['Switch_Prob'] = (result['End_ON']-result['Start_ON']) / result['Start_OFF'].replace(0, np.nan)\n",
    "result['Switch_Prob'] = result['Switch_Prob'].fillna(0)\n",
    "\n",
    "# Sort by interval\n",
    "result = result.sort_values('Time_Bin').reset_index(drop=True)\n",
    "result['% Cells OFF'] = result['Start_OFF']/256*100\n",
    "print(result)"
   ]
  },
  {
   "cell_type": "code",
   "execution_count": null,
   "id": "df4b55d5-f629-4f1f-b806-b254ac60d910",
   "metadata": {},
   "outputs": [],
   "source": [
    "fig, ax1 = plt.subplots(figsize=(10, 6))  \n",
    "sns.pointplot(data=result, x='Time_Bin', y = 'Switch_Prob', ax=ax1, color='green')\n",
    "ax1.set_ylabel('Switch ON Probability', color='green')\n",
    "ax1.tick_params(axis='y', colors='green')\n",
    "ax2 = ax1.twinx()\n",
    "sns.pointplot(data=result, x='Time_Bin', y = '% Cells OFF', ax=ax2, color='pink')\n",
    "ax2.set_ylabel('% Cells OFF', color='pink')\n",
    "ax2.tick_params(axis='y', colors='pink')\n",
    "fig.savefig(plot_output +'/probability_ON_switch.pdf',bbox_inches='tight', transparent=True)"
   ]
  },
  {
   "cell_type": "code",
   "execution_count": null,
   "id": "fc5d8c3e-bafb-46ef-a8ef-94e45346e43a",
   "metadata": {},
   "outputs": [],
   "source": [
    "mothers_df = mothers_df.rename(columns={'mother_cell': 'cell_id'})\n",
    "# Merge shift values into the long-form dataframe\n",
    "mothers_merged_df = mothers_df.merge(slope_df, on=['unique_ID', 'cell_id'], how='left')\n",
    "\n",
    "# Drop rows that aren't switches\n",
    "valid_shift_df = mothers_merged_df[mothers_merged_df['category']=='switch']\n",
    "print(\"non-switch rows dropped:\", len(mothers_merged_df[mothers_merged_df['category']!='switch']))\n",
    "\n",
    "valid_shift_df['shifted_time'] = valid_shift_df['time'] - valid_shift_df['start_inc']\n",
    "\n",
    "valid_shift_df = valid_shift_df[valid_shift_df['category']=='switch']\n",
    "\n",
    "valid_shift_df"
   ]
  },
  {
   "cell_type": "code",
   "execution_count": null,
   "id": "01ea9fa9-1ce7-4b1b-934f-347c89e52831",
   "metadata": {},
   "outputs": [],
   "source": [
    "grey_palette = ['#808080']\n",
    "fig, ax = plt.subplots()\n",
    "plt.figure(figsize=(6.4, 4))\n",
    "sns.lineplot(data=valid_shift_df, x='shifted_time', y='GFP_median_intensity_processed_transformed', hue='unique_ID', palette = grey_palette, legend=False, linewidth=1, alpha=0.1, ax=ax)\n",
    "sns.lineplot(data=valid_shift_df, x='shifted_time', y='GFP_median_intensity_processed_transformed', color='#431c54', linewidth=3, errorbar=None, ax=ax)\n",
    "ax.axhline(y=log_gfp_th, color='black', linestyle='--', linewidth = 1)\n",
    "desired_ticks = [-120, -60, 0, 60, 120, 180, 240] \n",
    "ax.set_xticks(desired_ticks)\n",
    "ax.set_xlim(-125,245)\n",
    "fig.savefig(plot_output +'/time_shifted_mother_traces.pdf',bbox_inches='tight', transparent=True)"
   ]
  },
  {
   "cell_type": "code",
   "execution_count": null,
   "id": "1a8673d8-0843-47e4-b7bf-40c58bcc62a3",
   "metadata": {},
   "outputs": [],
   "source": [
    "switches_only = slope_df[slope_df['category']=='switch']\n",
    "switches_only_mothers = switches_only[switches_only['parent']==0]\n",
    "\n",
    "columns_to_plot = ['start_idx_var_value', 'end_idx_var_value', 'max_gfp', 'min_post_max']\n",
    "for column in columns_to_plot:\n",
    "    switches_only_mothers[column] = switches_only_mothers[column].astype(float)\n",
    "long_df = switches_only_mothers[columns_to_plot].melt(var_name='Metric', value_name='log(PssaG-sfGFP(LVA) Median Intensity)')\n",
    "plt.figure(figsize=(6.4, 4))\n",
    "sns.violinplot(x='Metric', y='log(PssaG-sfGFP(LVA) Median Intensity)', data=long_df, inner = None, fill=True, density_norm = 'width', color = '#431c54', alpha = 1, linecolor = 'white' )\n",
    "sns.boxplot(x='Metric', y='log(PssaG-sfGFP(LVA) Median Intensity)', data=long_df, width = 0.15, color = 'white', linecolor ='grey',  fliersize = 3)\n",
    "plt.axhline(y=log_gfp_th, color='grey', linestyle='--', linewidth = 0.75,)\n",
    "sns.despine()\n",
    "plt.savefig(plot_output +'/switch_features_GFP.pdf',bbox_inches='tight', transparent=True)\n"
   ]
  },
  {
   "cell_type": "code",
   "execution_count": null,
   "id": "9215958b-f7d6-4a2c-9b5e-bcb5d81cb335",
   "metadata": {},
   "outputs": [],
   "source": [
    "fig, ax = plt.subplots()\n",
    "sns.regplot(data=switches_only_mothers, x='max_gfp', y = 'min_post_max', color='#431c54',scatter_kws = {'s':15, 'alpha':0.5}, ax=ax)\n",
    "plt.axhline(y=log_gfp_th, color='grey', linestyle='--')\n",
    "from sklearn.metrics import r2_score\n",
    "x = switches_only['max_gfp']\n",
    "y = switches_only['min_post_max']\n",
    "z = np.polyfit(x, y, 1)\n",
    "p = np.poly1d(z)\n",
    "y_predicted = p(x)\n",
    "r_squared = r2_score(y, y_predicted)\n",
    "ax.annotate(f\"R² = {r_squared:.2f}\", xy=(0.05, 0.9), xycoords=\"axes fraction\")\n",
    "\n",
    "# Annotate the plot\n",
    "sns.despine()\n",
    "plt.ylim(6, 11)\n",
    "plt.savefig(plot_output +'/maxvminpostmax_switches_mothers.pdf',bbox_inches='tight', transparent=True)"
   ]
  },
  {
   "cell_type": "code",
   "execution_count": null,
   "id": "51873c86-575b-452d-93a2-8438e0e77f52",
   "metadata": {},
   "outputs": [],
   "source": [
    "fig, ax = plt.subplots()\n",
    "sns.regplot(data=switches_only_mothers, x='start_inc', y = 'max_gfp', color='#431c54',scatter_kws = {'s':15, 'alpha':0.5}, ax=ax)\n",
    "x = switches_only['start_inc']\n",
    "y = switches_only['max_gfp']\n",
    "z = np.polyfit(x, y, 1)\n",
    "p = np.poly1d(z)\n",
    "y_predicted = p(x)\n",
    "r_squared = r2_score(y, y_predicted)\n",
    "ax.annotate(f\"R² = {r_squared:.2f}\", xy=(0.05, 0.9), xycoords=\"axes fraction\")\n",
    "plt.axhline(y=log_gfp_th, color='grey', linestyle='--')\n",
    "sns.despine()"
   ]
  },
  {
   "cell_type": "code",
   "execution_count": null,
   "id": "4e861ef6-8028-4538-b712-929e62926f55",
   "metadata": {},
   "outputs": [],
   "source": [
    "mothers_slope['expt_pos'] = mothers_slope['experiment'].astype(str) + '_' + mothers_slope['position']\n",
    "\n",
    "mothers_slope['cat_code'] = mothers_slope['category'].astype('category').cat.codes\n",
    "\n",
    "# Create pivot table with one column, indexed by 'expt_pos'\n",
    "pivot_table = mothers_slope.pivot_table(values='cat_code', index='expt_pos')\n",
    "\n",
    "sorted_pivot = pivot_table.reindex(index=GFP_TH_sorted_pivot.index)\n",
    "# Plot heatmap\n",
    "fig, ax = plt.subplots(figsize=(2, len(sorted_pivot) * 0.25))  # Adjust height based on number of rows\n",
    "sns.heatmap(sorted_pivot, annot=False, square=True, cmap='tab20b', cbar=False, ax=ax)\n",
    "\n",
    "# Optional: show y-axis labels if desired\n",
    "#ax.set_yticklabels(GFP_TH_sorted_pivot.index, rotation=0)\n",
    "ax.set_xticks([])  # Keep x-axis empty since it's just one column\n",
    "ax.set_xlabel('')\n",
    "ax.set_ylabel('')\n",
    "plt.title('Category Heatmap by expt_pos')\n",
    "plt.tight_layout()\n",
    "\n",
    "\n",
    "plt.savefig(plot_output+'/Mother_cell_category.pdf',bbox_inches='tight', transparent=True) "
   ]
  }
 ],
 "metadata": {
  "kernelspec": {
   "display_name": "gmm",
   "language": "python",
   "name": "delta_env"
  },
  "language_info": {
   "codemirror_mode": {
    "name": "ipython",
    "version": 3
   },
   "file_extension": ".py",
   "mimetype": "text/x-python",
   "name": "python",
   "nbconvert_exporter": "python",
   "pygments_lexer": "ipython3",
   "version": "3.12.0"
  }
 },
 "nbformat": 4,
 "nbformat_minor": 5
}
