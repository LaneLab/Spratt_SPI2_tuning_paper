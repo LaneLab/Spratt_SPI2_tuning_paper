{
 "cells": [
  {
   "cell_type": "markdown",
   "id": "649ad23b-d2e0-4fd5-8a9b-c315c0f7fdb7",
   "metadata": {},
   "source": [
    "# Parent and Progeny Correlations\n",
    "Code to plot correlation and count division times from separation, then color spots that way. \n",
    "The df we create is similar to the Random Forest DF (without ruby features) but for ease of reading and making sure nothing gets mixed up these are in separate notebooks. "
   ]
  },
  {
   "cell_type": "code",
   "execution_count": null,
   "id": "d2573b15-172f-4fdd-8ecc-d34f283241c8",
   "metadata": {},
   "outputs": [],
   "source": [
    "from pathlib import Path\n",
    "import seaborn as sns\n",
    "from matplotlib import pyplot as plt\n",
    "import xarray as xr\n",
    "import numpy as np\n",
    "import pandas as pd\n",
    "import os\n",
    "import re\n",
    "from collections import defaultdict\n",
    "import matplotlib.pyplot as plt\n",
    "from sklearn import metrics\n",
    "from sklearn.metrics import r2_score\n",
    "\n",
    "\n",
    "\n",
    "# makes figures look better in Jupyter\n",
    "sns.set_context('talk')\n",
    "sns.set_style(\"ticks\")\n",
    "import matplotlib as mpl\n",
    "mpl.rcParams['pdf.fonttype'] = 42\n",
    "mpl.rcParams['ps.fonttype'] = 42"
   ]
  },
  {
   "cell_type": "markdown",
   "id": "4b6e7372-6700-4a26-8a81-21debf269ced",
   "metadata": {},
   "source": [
    "# Prepping DF"
   ]
  },
  {
   "cell_type": "code",
   "execution_count": null,
   "id": "5e799059-72f9-4e4f-b246-1d3d71ef3915",
   "metadata": {},
   "outputs": [],
   "source": [
    "plot_output = ''\n",
    "df_slope = pd.read_csv(os.path.join(plot_output, 'Switch_Stats.csv'))"
   ]
  },
  {
   "cell_type": "code",
   "execution_count": null,
   "id": "398d5fd6-f9f7-41f5-a55c-187fcaabf0e0",
   "metadata": {},
   "outputs": [],
   "source": [
    "df_slope_switch = df_slope[df_slope['category']=='switch']\n",
    "df_slope_switch_no_mothers = df_slope_switch[df_slope_switch['parent']!=0]\n",
    "df_final = df_slope_switch_no_mothers.dropna(subset=['parent_start_inc'])\n",
    "df_final['parent_start_inc_div_norm'] = df_final['parent_start_inc']-df_final['appearance_time']\n",
    "df_final['start_inc_div_norm'] = df_final['start_inc']-df_final['appearance_time']\n",
    "len(df_final)"
   ]
  },
  {
   "cell_type": "code",
   "execution_count": null,
   "id": "c92c193e-d967-4648-b649-d9a0977ba83c",
   "metadata": {},
   "outputs": [],
   "source": [
    "df_30min = df_final[df_final['start_inc'] > df_final['appearance_time']+30]\n",
    "df_filtered = df_30min[df_30min['parent_start_inc_div_norm']>0]\n",
    "print(len(df_30min))\n",
    "print(len(df_filtered))"
   ]
  },
  {
   "cell_type": "code",
   "execution_count": null,
   "id": "05f38f72-5afd-4f8e-b77d-f2be914f501b",
   "metadata": {},
   "outputs": [],
   "source": [
    "#Plot the raw to see how it looks\n",
    "df_final['appearance_to_start'] = df_final['start_inc'] - df_final['appearance_time']\n",
    "ax = sns.scatterplot(data=df_final, x='parent_start_inc', y='start_inc', s =25, alpha = 1, hue= df_final['appearance_to_start'], palette = 'viridis', hue_norm =(0,500) ) \n",
    "ax.set_xlim(100,1000)\n",
    "ax.set_ylim(100, 1000)\n",
    "ax.legend(loc='center left', bbox_to_anchor=(1.02, 0.5))\n",
    "print(\"R^2 Score:\", r2_score(df_final['parent_start_inc'], df_final['start_inc']))"
   ]
  },
  {
   "cell_type": "code",
   "execution_count": null,
   "id": "e8669911-f1a7-4980-bc51-9482402cdc79",
   "metadata": {},
   "outputs": [],
   "source": [
    "#Normalize by the time of division and plot\n",
    "df_final['parent_start_inc_div_norm'] = df_final['parent_start_inc']-df_final['appearance_time']\n",
    "df_final['start_inc_div_norm'] = df_final['start_inc']-df_final['appearance_time']\n",
    "ax = sns.scatterplot(data=df_final, x='parent_start_inc_div_norm', y='start_inc_div_norm', s =25, alpha = 1) \n",
    "x1 = np.array([-200, 800])\n",
    "y1 = 1 * x1 + 0\n",
    "ax.set_xlim(-200,800)\n",
    "ax.set_ylim(-200, 800)\n",
    "plt.plot(x1, y1, \"black\")\n",
    "ax.legend(loc='center left', bbox_to_anchor=(1.02, 0.5))\n",
    "print(\"R^2 Score:\", r2_score(df_final['parent_start_inc_div_norm'], df_final['start_inc_div_norm']))"
   ]
  },
  {
   "cell_type": "code",
   "execution_count": null,
   "id": "02762e77-fcf3-489f-a25c-5bfe0dcbd3bf",
   "metadata": {},
   "outputs": [],
   "source": [
    "ax = sns.scatterplot(data=df_filtered, x='parent_start_inc_div_norm', y='start_inc_div_norm', color = '#431c54', s=20, alpha= 0.75) \n",
    "\n",
    "y_perfect = df_filtered['parent_start_inc_div_norm']\n",
    "y_test = df_filtered['start_inc_div_norm']\n",
    "y_mean = df_filtered['start_inc_div_norm'].mean()\n",
    "\n",
    "ss_total = np.sum((y_test - y_mean)**2)\n",
    "\n",
    "ss_residual = np.sum((y_test - y_perfect)**2)\n",
    "\n",
    "# Calculate R-squared\n",
    "r_squared = 1 - (ss_residual / ss_total)\n",
    "\n",
    "print(f\"R-squared (vs. perfect y=x): {r_squared}\")\n",
    "plt.plot(x1, y1, \"darkgrey\")\n",
    "ax.set_xlim(0,800)\n",
    "ax.set_xticks([0, 120, 240, 360, 480, 600, 720, 840])\n",
    "ax.set_yticks([0, 120, 240, 360, 480, 600, 720, 840])\n",
    "\n",
    "ax.set_ylim(0, 800)\n",
    "sns.despine()\n",
    "plt.savefig(plot_output +'/final_parent_vs_prog.pdf',bbox_inches='tight', transparent=True)"
   ]
  },
  {
   "cell_type": "code",
   "execution_count": null,
   "id": "9b796263-0a32-4193-b678-f1efda993d9f",
   "metadata": {},
   "outputs": [],
   "source": [
    "accuracy_df = pd.DataFrame({'Experimental': y_test, 'Predicted': y_perfect, 'X':df_filtered['parent_start_inc_div_norm'] })\n",
    "accuracy_df['individual_acc']= abs((accuracy_df['Predicted']-accuracy_df['Experimental'])/accuracy_df['Experimental'])\n",
    "accuracy_df['individual_acc_percent'] = accuracy_df['individual_acc']*100\n",
    "accuracy = 1-(1/len(accuracy_df) * accuracy_df['individual_acc'].sum()) \n",
    "print(accuracy_df['individual_acc'].mean())\n",
    "print(accuracy_df['individual_acc'].std())\n",
    "print(accuracy)\n",
    "accuracy_df"
   ]
  },
  {
   "cell_type": "code",
   "execution_count": null,
   "id": "9b04b4a3-4cd7-4ceb-bbd7-a6fd50c0056e",
   "metadata": {},
   "outputs": [],
   "source": [
    "plt.figure(figsize=(6, 3))\n",
    "ax = sns.regplot(data=accuracy_df, x='X', y='individual_acc_percent', scatter_kws={'s': 10,  'alpha': 0.7}) \n",
    "ax.set_xticks([0, 120, 240, 360, 480, 600, 720, 840])\n",
    "sns.despine()\n",
    "plt.savefig(plot_output +'/final_parent_vs_prog_accovertime.pdf',bbox_inches='tight', transparent=True)"
   ]
  },
  {
   "cell_type": "code",
   "execution_count": null,
   "id": "89609726-db61-404b-a8d2-71fe4949fe3b",
   "metadata": {},
   "outputs": [],
   "source": [
    "plt.figure(figsize=(6, 3))\n",
    "ax = sns.regplot(data=accuracy_df, x='X', y='individual_acc_percent', scatter_kws={'s': 10, 'alpha': 0.7}) \n",
    "ax.set_xticks([0, 120, 240, 360, 480, 600, 720, 840])\n",
    "ax.set_ylim(-5, 200)\n",
    "sns.despine()\n",
    "plt.savefig(plot_output +'/final_parent_vs_prog_accovertime_zoom.pdf',bbox_inches='tight', transparent=True)"
   ]
  },
  {
   "cell_type": "code",
   "execution_count": null,
   "id": "4255f815-f2fa-458d-b23f-7d0be782049e",
   "metadata": {},
   "outputs": [],
   "source": [
    "ax = sns.scatterplot(data=accuracy_df, x='X', y='individual_acc_percent', color = '#431c54', s=20, alpha= 0.5) \n",
    "ax.set_ylim(-5, 100)"
   ]
  },
  {
   "cell_type": "code",
   "execution_count": null,
   "id": "b818c99a-f0bb-4f54-bd57-db9dad5e310a",
   "metadata": {},
   "outputs": [],
   "source": [
    "residuals = y_test - y_perfect\n",
    "\n",
    "# Calculate MSE\n",
    "mse = np.mean(residuals**2)\n",
    "\n",
    "# Calculate RMSE (if preferred)\n",
    "rmse = np.sqrt(mse)\n",
    "\n",
    "print(f\"MSE: {mse}\")\n",
    "print(f\"RMSE: {rmse}\")"
   ]
  },
  {
   "cell_type": "code",
   "execution_count": null,
   "id": "aea01801-97eb-4f67-a1bd-847234eddaf0",
   "metadata": {},
   "outputs": [],
   "source": [
    "ax = sns.kdeplot(data=df_final, x='parent_start_inc_div_norm', y='start_inc_div_norm') \n",
    "plt.plot(x1, y1, \"black\")\n"
   ]
  },
  {
   "cell_type": "code",
   "execution_count": null,
   "id": "93096190-3576-427a-80fb-309357c4bc71",
   "metadata": {},
   "outputs": [],
   "source": [
    "sns.residplot(data=df_final, x='parent_start_inc_div_norm', y='start_inc_div_norm', scatter_kws={'s': 10, 'color': 'green', 'alpha': 0.7})"
   ]
  },
  {
   "cell_type": "code",
   "execution_count": null,
   "id": "f0bc5ccf-8bdf-4a17-8c7b-83131f886e3f",
   "metadata": {},
   "outputs": [],
   "source": []
  }
 ],
 "metadata": {
  "kernelspec": {
   "display_name": "gmm",
   "language": "python",
   "name": "delta_env"
  },
  "language_info": {
   "codemirror_mode": {
    "name": "ipython",
    "version": 3
   },
   "file_extension": ".py",
   "mimetype": "text/x-python",
   "name": "python",
   "nbconvert_exporter": "python",
   "pygments_lexer": "ipython3",
   "version": "3.12.0"
  }
 },
 "nbformat": 4,
 "nbformat_minor": 5
}
